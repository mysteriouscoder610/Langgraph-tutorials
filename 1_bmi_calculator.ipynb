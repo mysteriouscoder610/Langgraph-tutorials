{
 "cells": [
  {
   "cell_type": "code",
   "execution_count": 6,
   "id": "f283787b",
   "metadata": {},
   "outputs": [],
   "source": [
    "from langgraph.graph import StateGraph, START, END\n",
    "from typing import TypedDict"
   ]
  },
  {
   "cell_type": "code",
   "execution_count": 14,
   "id": "1f9bbe6b",
   "metadata": {},
   "outputs": [],
   "source": [
    "# define state\n",
    "class BMIState(TypedDict):\n",
    "    weight: float\n",
    "    height: float\n",
    "    bmi: float\n",
    "    category: str"
   ]
  },
  {
   "cell_type": "code",
   "execution_count": 8,
   "id": "5060b899",
   "metadata": {},
   "outputs": [],
   "source": [
    "def calculate_bmi(state: BMIState) -> BMIState:\n",
    "    \"\"\"Calculate BMI based on weight and height.\"\"\"\n",
    "    weight = state['weight']\n",
    "    height = state['height']\n",
    "    bmi=weight / (height ** 2)\n",
    "    state['bmi'] = bmi\n",
    "    return state"
   ]
  },
  {
   "cell_type": "code",
   "execution_count": 15,
   "id": "4723e0fa",
   "metadata": {},
   "outputs": [],
   "source": [
    "def calculate_category(state: BMIState) -> BMIState:\n",
    "    \"\"\"Determine BMI category based on calculated BMI.\"\"\"\n",
    "    bmi = state['bmi']\n",
    "    if bmi < 18.5:\n",
    "        state['category'] = 'Underweight'\n",
    "    elif 18.5 <= bmi < 24.9:\n",
    "        state['category'] = 'Normal weight'\n",
    "    elif 25 <= bmi < 29.9:\n",
    "        state['category'] = 'Overweight'\n",
    "    else:\n",
    "        state['category'] = 'Obesity'\n",
    "    return state"
   ]
  },
  {
   "cell_type": "code",
   "execution_count": 16,
   "id": "8022e227",
   "metadata": {},
   "outputs": [],
   "source": [
    "# define your graph\n",
    "graph=StateGraph(BMIState)\n",
    "\n",
    "# define your nodes\n",
    "graph.add_node('calculate_bmi',calculate_bmi)\n",
    "graph.add_node('calculate_category', calculate_category)\n",
    "\n",
    "# define your edges\n",
    "graph.add_edge(START, 'calculate_bmi')\n",
    "graph.add_edge('calculate_bmi', 'calculate_category')\n",
    "graph.add_edge('calculate_category', END)\n",
    "\n",
    "# compile the graph\n",
    "workflow=graph.compile()"
   ]
  },
  {
   "cell_type": "code",
   "execution_count": 20,
   "id": "10622b3d",
   "metadata": {},
   "outputs": [
    {
     "name": "stdout",
     "output_type": "stream",
     "text": [
      "{'weight': 80, 'height': 1.75, 'bmi': 26.122448979591837, 'category': 'Overweight'}\n"
     ]
    }
   ],
   "source": [
    "# execute the graph\n",
    "output_state=workflow.invoke({'weight': 80, 'height': 1.75})\n",
    "print(output_state)"
   ]
  },
  {
   "cell_type": "code",
   "execution_count": 21,
   "id": "d425f80e",
   "metadata": {},
   "outputs": [
    {
     "data": {
      "image/png": "[encoded data removed]",
      "text/plain": [
       "<IPython.core.display.Image object>"
      ]
     },
     "execution_count": 21,
     "metadata": {},
     "output_type": "execute_result"
    }
   ],
   "source": [
    "from IPython.display import Image\n",
    "Image(workflow.get_graph().draw_mermaid_png())"
   ]
  },
  {
   "cell_type": "code",
   "execution_count": null,
   "id": "85baf4ae",
   "metadata": {},
   "outputs": [],
   "source": []
  }
 ],
 "metadata": {
  "kernelspec": {
   "display_name": "myenv",
   "language": "python",
   "name": "python3"
  },
  "language_info": {
   "codemirror_mode": {
    "name": "ipython",
    "version": 3
   },
   "file_extension": ".py",
   "mimetype": "text/x-python",
   "name": "python",
   "nbconvert_exporter": "python",
   "pygments_lexer": "ipython3",
   "version": "3.13.5"
  }
 },
 "nbformat": 4,
 "nbformat_minor": 5
}
