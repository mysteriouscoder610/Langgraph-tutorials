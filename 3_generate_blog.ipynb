{
 "cells": [
  {
   "cell_type": "code",
   "execution_count": 28,
   "id": "ae2bc564",
   "metadata": {},
   "outputs": [],
   "source": [
    "from langgraph.graph import StateGraph, START, END\n",
    "from langchain_google_genai import ChatGoogleGenerativeAI\n",
    "from typing import TypedDict\n",
    "from dotenv import load_dotenv"
   ]
  },
  {
   "cell_type": "code",
   "execution_count": 29,
   "id": "6f2da217",
   "metadata": {},
   "outputs": [],
   "source": [
    "load_dotenv()\n",
    "\n",
    "model= ChatGoogleGenerativeAI(model=\"gemini-1.5-flash\")"
   ]
  },
  {
   "cell_type": "code",
   "execution_count": 30,
   "id": "e5f88f7c",
   "metadata": {},
   "outputs": [],
   "source": [
    "class BlogState(TypedDict):\n",
    "    title: str\n",
    "    outline: str\n",
    "    content: str\n",
    "    rating: str"
   ]
  },
  {
   "cell_type": "code",
   "execution_count": 31,
   "id": "71ff4f3a",
   "metadata": {},
   "outputs": [],
   "source": [
    "def create_outline(state: BlogState) -> BlogState:\n",
    "    # fetch the title\n",
    "    title=state['title']\n",
    "\n",
    "    # call llm gen outline\n",
    "    prompt=f'Generate a detailed outline for a blog post titled - {title}'\n",
    "    outline=model.invoke(prompt).content\n",
    "\n",
    "    # update the state\n",
    "    state['outline']=outline\n",
    "    return state\n"
   ]
  },
  {
   "cell_type": "code",
   "execution_count": 32,
   "id": "e68e335f",
   "metadata": {},
   "outputs": [],
   "source": [
    "def create_blog(state: BlogState) -> BlogState:\n",
    "    # fetch the title and outline\n",
    "    title=state['title']\n",
    "    outline=state['outline']\n",
    "\n",
    "    # call llm to generate blog content\n",
    "    prompt=f'Generate a detailed blog post based on the following outline - {outline}'\n",
    "    content=model.invoke(prompt).content\n",
    "\n",
    "    # update the state\n",
    "    state['content']=content\n",
    "    return state"
   ]
  },
  {
   "cell_type": "code",
   "execution_count": 33,
   "id": "ee61feba",
   "metadata": {},
   "outputs": [],
   "source": [
    "def rating(state: BlogState) -> BlogState:\n",
    "    # fetch the content\n",
    "    content=state['content']\n",
    "\n",
    "    # call llm to rate the blog\n",
    "    prompt=f'Rate the following blog post on a scale of 1 to 10 - {content}'\n",
    "    rating=model.invoke(prompt).content\n",
    "\n",
    "    # update the state\n",
    "    state['rating']=rating\n",
    "    return state"
   ]
  },
  {
   "cell_type": "code",
   "execution_count": 34,
   "id": "2bc189ec",
   "metadata": {},
   "outputs": [],
   "source": [
    "graph=StateGraph(BlogState)\n",
    "\n",
    "# define the nodes\n",
    "graph.add_node('Create Outline',create_outline)\n",
    "graph.add_node('Create Blog',create_blog)\n",
    "graph.add_node('Rating',rating)\n",
    "\n",
    "# define the edges\n",
    "graph.add_edge(START, 'Create Outline')\n",
    "graph.add_edge('Create Outline', 'Create Blog')\n",
    "graph.add_edge('Create Blog', 'Rating')\n",
    "graph.add_edge('Rating', END)\n",
    "\n",
    "# compile the model\n",
    "workflow=graph.compile()"
   ]
  },
  {
   "cell_type": "code",
   "execution_count": 35,
   "id": "edc02e90",
   "metadata": {},
   "outputs": [
    {
     "name": "stdout",
     "output_type": "stream",
     "text": [
      "{'title': 'Rise of AI in india', 'outline': \"## Blog Post Outline: Rise of AI in India\\n\\n**I. Introduction (approx. 100-150 words)**\\n\\n* **Hook:** Start with a compelling statistic or anecdote showcasing AI's growing impact in India (e.g., number of AI startups, AI's role in a specific Indian industry).\\n* **Briefly define AI:**  A concise, accessible explanation of artificial intelligence for a general audience.\\n* **Thesis statement:** State the central argument – that AI is rapidly rising in India, driven by specific factors, and presenting both opportunities and challenges.\\n* **Roadmap:** Briefly outline the topics to be covered in the post.\\n\\n\\n**II. Drivers of AI Growth in India (approx. 300-400 words)**\\n\\n* **Government Initiatives:**\\n    *  Discuss the Indian government's policies and programs promoting AI (e.g., National AI Strategy, Digital India initiative).\\n    *  Highlight funding, research grants, and initiatives fostering AI education.\\n* **Technological Infrastructure:**\\n    *  Mention India's expanding digital infrastructure (internet penetration, mobile adoption) as a foundation for AI development.\\n    *  Discuss the availability of data and computing power.\\n* **Talent Pool:**\\n    *  Acknowledge India's large pool of skilled engineers and scientists.\\n    *  Mention the growth of AI education programs in universities and colleges.\\n    *  Discuss the increasing number of AI professionals.\\n* **Investment and Funding:**\\n    *  Highlight the influx of venture capital and foreign investment in Indian AI startups.\\n    *  Mention the role of incubators and accelerators in supporting AI innovation.\\n\\n\\n**III. Key Applications of AI in India (approx. 300-400 words)**\\n\\n* **Specific Sectors:**  Focus on 3-4 key sectors where AI is making significant inroads. Examples include:\\n    * **Healthcare:** AI-powered diagnostics, drug discovery, personalized medicine.\\n    * **Agriculture:** Precision farming, crop monitoring, yield prediction.\\n    * **Finance:** Fraud detection, risk management, algorithmic trading.\\n    * **E-commerce:** Personalized recommendations, customer service chatbots.\\n    * **Transportation:** Autonomous vehicles (mention challenges and progress).\\n* **Real-world examples:** Include specific case studies of successful AI implementations in India for each sector.  Include company names and quantifiable results where possible.\\n\\n\\n**IV. Challenges and Concerns (approx. 200-300 words)**\\n\\n* **Data Privacy and Security:** Discuss concerns around data breaches and the ethical implications of AI.\\n* **Ethical Considerations:**  Address potential biases in AI algorithms and the need for responsible AI development.\\n* **Skill Gap:**  Acknowledge the ongoing need for more skilled AI professionals.\\n* **Infrastructure limitations:** Mention areas where infrastructure still needs improvement to fully support AI growth.\\n* **Regulatory framework:** Discuss the need for clear regulations and policies to govern the use of AI.\\n\\n\\n**V. Future Outlook and Conclusion (approx. 150-200 words)**\\n\\n* **Predictions for the future of AI in India:**  Offer a reasoned and optimistic (but realistic) view of AI's potential in the coming years.\\n* **Potential for global impact:**  Mention how India's AI advancements could contribute to global AI innovation.\\n* **Concluding thoughts:** Reiterate the main points of the post and leave the reader with a sense of the exciting possibilities and challenges ahead for AI in India.\\n\\n\\n**VI. Call to Action (approx. 50 words)**\\n\\n* Encourage readers to share their thoughts, engage in the comments section, or explore related resources.\\n\\n\\n**VII.  Optional additions:**\\n\\n* Include relevant images, infographics, or videos to enhance readability and engagement.\\n* Add a section on prominent Indian AI companies and researchers.\\n* Link to relevant news articles, reports, and research papers.\\n\\n\\nThis detailed outline provides a comprehensive structure for a blog post on the rise of AI in India. Remember to use clear, concise language and cite your sources appropriately.  The word counts are suggestions and can be adjusted based on the desired length of the post.\", 'content': \"## The Rise of Artificial Intelligence in India: A Nation Embracing the Future\\n\\n**I. Introduction**\\n\\nIndia is experiencing a technological surge, with artificial intelligence (AI) at its forefront.  The number of AI startups has exploded in recent years, growing at a rate exceeding 40% annually, according to a recent NASSCOM report.  But what exactly is AI?  Simply put, AI refers to computer systems capable of performing tasks that typically require human intelligence, such as learning, problem-solving, and decision-making. This blog post will explore the rapid rise of AI in India, examining the key drivers of this growth, its diverse applications, the challenges it presents, and its promising future. We'll delve into government initiatives, technological advancements, the burgeoning talent pool, and the ethical considerations shaping this transformative technology's trajectory.\\n\\n**II. Drivers of AI Growth in India**\\n\\nSeveral factors contribute to India's burgeoning AI ecosystem.  The Indian government has played a crucial role through initiatives like the National AI Strategy, aiming to position India as a global leader in AI by fostering innovation, research, and development.  This strategy includes significant funding for AI research grants, scholarships for AI education, and the establishment of AI-focused centers of excellence.  The Digital India initiative, with its focus on expanding internet and mobile penetration, has laid a vital digital infrastructure foundation for AI development.  This increased connectivity fuels data generation, crucial for training AI models.  Furthermore, India boasts a vast pool of skilled engineers and scientists, many of whom are graduating from universities with burgeoning AI-focused programs.  This talent pool is further bolstered by a growing number of AI professionals returning from abroad.  Significant venture capital and foreign investment are flowing into Indian AI startups, with incubators and accelerators providing crucial support and mentorship, accelerating innovation.\\n\\n**III. Key Applications of AI in India**\\n\\nAI is rapidly transforming various sectors in India.  In **healthcare**, companies like SigTuple are using AI for automated disease diagnostics, improving accuracy and efficiency.  AI is also revolutionizing **agriculture**, with startups like Fasal employing AI-powered systems for precision farming, optimizing irrigation, and predicting crop yields, leading to increased efficiency and reduced resource wastage.  The **finance** sector is leveraging AI for fraud detection, risk management, and algorithmic trading, enhancing security and profitability.  For example, HDFC Bank utilizes AI-powered chatbots for customer service, improving response times and customer satisfaction.  Finally,  while autonomous vehicles face significant regulatory and infrastructural challenges,  Indian companies are actively developing self-driving technology for the future.\\n\\n**IV. Challenges and Concerns**\\n\\nDespite the rapid progress, several challenges remain.  Data privacy and security are paramount concerns, with the potential for data breaches and misuse of personal information demanding robust regulatory frameworks.  Ethical considerations, such as potential biases in AI algorithms, necessitate responsible AI development and deployment.  While the talent pool is growing, a significant skill gap persists, requiring further investment in AI education and training.  Infrastructure limitations, particularly in data storage and processing capabilities in certain regions, also hinder widespread AI adoption.  A clear and comprehensive regulatory framework is crucial to govern the ethical and responsible use of AI, ensuring fairness, transparency, and accountability.\\n\\n**V. Future Outlook and Conclusion**\\n\\nThe future of AI in India is bright.  With continued government support, technological advancements, and a growing talent pool, India is poised to become a major player in the global AI landscape.  Indian AI advancements have the potential to address critical societal challenges, from improving healthcare access to enhancing agricultural productivity.  The next decade will likely see an even more significant integration of AI across various sectors, leading to increased efficiency, innovation, and economic growth.  However, addressing the challenges related to data privacy, ethical considerations, and infrastructure limitations will be crucial to ensure the responsible and beneficial development of AI in India.\\n\\n**VI. Call to Action**\\n\\nWhat are your thoughts on the rise of AI in India? Share your opinions and insights in the comments section below. Let's discuss the opportunities and challenges that lie ahead!\\n\\n\\n**(Optional additions would be included here, such as images, infographics, links to relevant resources, and a section on prominent Indian AI companies and researchers.)**\", 'rating': \"I'd rate this blog post a 7 out of 10.\\n\\n**Strengths:**\\n\\n* **Clear Structure:** The post follows a logical structure with a clear introduction, body paragraphs addressing key aspects, and a concise conclusion.  The use of Roman numerals for sections enhances readability.\\n* **Comprehensive Coverage:** It covers important aspects of AI's rise in India, including drivers, applications, challenges, and future outlook.\\n* **Specific Examples:**  The inclusion of specific Indian companies (SigTuple, Fasal, HDFC Bank) and initiatives (National AI Strategy, Digital India) adds credibility and makes the content more engaging.\\n* **Balanced Perspective:** The post acknowledges both the opportunities and challenges associated with AI development in India, presenting a balanced view.\\n* **Call to Action:**  The inclusion of a call to action encourages reader engagement.\\n\\n\\n**Weaknesses:**\\n\\n* **Lack of Depth:** While comprehensive in its scope, the post lacks depth in certain areas.  For example, the discussion of ethical concerns could be expanded with specific examples of potential biases in AI algorithms used in India.  Similarly, the infrastructure limitations could be elaborated on with more specific details.\\n* **Generic in Places:** Some sections, particularly the introduction's definition of AI, feel a bit generic and could benefit from a more nuanced approach.\\n* **Missing Visuals:** The mention of optional additions highlights the absence of visuals, which would significantly enhance the blog post's appeal and readability.  Infographics, images, or even a simple graph illustrating the growth of AI startups would be beneficial.\\n* **Limited Citations:** While a NASSCOM report is mentioned,  including more citations to support claims would strengthen the post's credibility.\\n\\n\\nTo improve the post to a higher rating (8-10), the author should:\\n\\n* Add more specific examples and data to support claims.\\n* Include relevant visuals (images, infographics, charts).\\n* Expand on the ethical concerns and infrastructure limitations with more detail and specific examples from the Indian context.\\n* Provide citations for key statistics and claims.\\n*  Consider adding a section profiling some prominent Indian AI companies and researchers.\\n\\nThe current post provides a good overview, but adding these improvements would elevate it to a more impactful and informative piece.\"}\n"
     ]
    }
   ],
   "source": [
    "initial_state = {'title': 'Rise of AI in india'}\n",
    "final_state=workflow.invoke(initial_state)\n",
    "print(final_state)"
   ]
  },
  {
   "cell_type": "code",
   "execution_count": 38,
   "id": "ac0a0d9e",
   "metadata": {},
   "outputs": [
    {
     "name": "stdout",
     "output_type": "stream",
     "text": [
      "I'd rate this blog post a 7 out of 10.\n",
      "\n",
      "**Strengths:**\n",
      "\n",
      "* **Clear Structure:** The post follows a logical structure with a clear introduction, body paragraphs addressing key aspects, and a concise conclusion.  The use of Roman numerals for sections enhances readability.\n",
      "* **Comprehensive Coverage:** It covers important aspects of AI's rise in India, including drivers, applications, challenges, and future outlook.\n",
      "* **Specific Examples:**  The inclusion of specific Indian companies (SigTuple, Fasal, HDFC Bank) and initiatives (National AI Strategy, Digital India) adds credibility and makes the content more engaging.\n",
      "* **Balanced Perspective:** The post acknowledges both the opportunities and challenges associated with AI development in India, presenting a balanced view.\n",
      "* **Call to Action:**  The inclusion of a call to action encourages reader engagement.\n",
      "\n",
      "\n",
      "**Weaknesses:**\n",
      "\n",
      "* **Lack of Depth:** While comprehensive in its scope, the post lacks depth in certain areas.  For example, the discussion of ethical concerns could be expanded with specific examples of potential biases in AI algorithms used in India.  Similarly, the infrastructure limitations could be elaborated on with more specific details.\n",
      "* **Generic in Places:** Some sections, particularly the introduction's definition of AI, feel a bit generic and could benefit from a more nuanced approach.\n",
      "* **Missing Visuals:** The mention of optional additions highlights the absence of visuals, which would significantly enhance the blog post's appeal and readability.  Infographics, images, or even a simple graph illustrating the growth of AI startups would be beneficial.\n",
      "* **Limited Citations:** While a NASSCOM report is mentioned,  including more citations to support claims would strengthen the post's credibility.\n",
      "\n",
      "\n",
      "To improve the post to a higher rating (8-10), the author should:\n",
      "\n",
      "* Add more specific examples and data to support claims.\n",
      "* Include relevant visuals (images, infographics, charts).\n",
      "* Expand on the ethical concerns and infrastructure limitations with more detail and specific examples from the Indian context.\n",
      "* Provide citations for key statistics and claims.\n",
      "*  Consider adding a section profiling some prominent Indian AI companies and researchers.\n",
      "\n",
      "The current post provides a good overview, but adding these improvements would elevate it to a more impactful and informative piece.\n"
     ]
    }
   ],
   "source": [
    "print(final_state['rating'])  # Print the generated blog content"
   ]
  },
  {
   "cell_type": "code",
   "execution_count": 15,
   "id": "967c6f0c",
   "metadata": {},
   "outputs": [
    {
     "name": "stdout",
     "output_type": "stream",
     "text": [
      "## The Rise of Artificial Intelligence in India: A Nation Embracing the Future\n",
      "\n",
      "**I. Introduction**\n",
      "\n",
      "India's burgeoning artificial intelligence (AI) sector is attracting global attention.  With investments exceeding \\$1 billion in 2022 alone,  the nation is rapidly transforming into a significant player in the global AI landscape.  Artificial intelligence, encompassing machine learning, deep learning, natural language processing, and computer vision, is being applied across diverse sectors, revolutionizing everything from healthcare to agriculture. This rapid growth is fueled by a confluence of factors: proactive government initiatives, a vast and diverse data pool, a burgeoning talent pool, and significant private sector investment. This blog post will explore these drivers, examine key applications of AI in India, and analyze the challenges and opportunities that lie ahead.\n",
      "\n",
      "\n",
      "**II. Drivers of AI Growth in India**\n",
      "\n",
      "**A. Government Initiatives:** The Indian government has recognized the transformative potential of AI and has launched several initiatives to foster its development. The National AI Strategy, spearheaded by NITI Aayog (the government's policy think tank), outlines a comprehensive roadmap for AI development, encompassing research, development, deployment, and ethical considerations.  Significant funding has been allocated to AI research projects, and various incentive programs encourage private sector participation.  These initiatives provide a strong foundation for the growth of the AI ecosystem.\n",
      "\n",
      "**B. Abundant Data:** India's massive and diverse population generates an unparalleled volume of data, a crucial resource for training AI models.  Data from social media, e-commerce platforms, government databases, and various other sources provides a rich tapestry for developing sophisticated AI applications.  While concerns regarding data privacy and security are valid, the government is actively working on developing robust data protection regulations, such as the Digital Personal Data Protection Bill, to balance innovation with responsible data usage.\n",
      "\n",
      "**C. Growing Talent Pool:** India boasts a large and growing pool of skilled AI professionals and researchers.  Leading Indian educational institutions are producing a steady stream of AI-skilled graduates, while numerous bootcamps and online courses are upskilling the existing workforce.  This talent pool is a key driver of innovation and contributes significantly to the development of cutting-edge AI solutions.\n",
      "\n",
      "**D. Private Sector Investment:**  Indian and international companies are making significant investments in AI startups and research.  Companies like Tata Consultancy Services (TCS), Infosys, and Wipro are investing heavily in AI capabilities, while numerous successful AI startups are emerging, focusing on diverse applications across various sectors.  This private sector investment fuels innovation and accelerates the adoption of AI technologies.\n",
      "\n",
      "\n",
      "**III. Applications of AI in India**\n",
      "\n",
      "**A. Agriculture:** AI is transforming Indian agriculture through precision farming techniques.  AI-powered drones and sensors monitor crop health, identify disease outbreaks, and optimize irrigation and fertilization, leading to increased yields and reduced resource wastage.  Companies like BigHaat are leveraging AI for improved crop management and farmer advisory services.\n",
      "\n",
      "**B. Healthcare:** AI is revolutionizing healthcare in India.  AI-powered diagnostic tools assist in early disease detection, improving accuracy and efficiency.  AI is also being used in drug discovery, personalized medicine, and telemedicine, extending healthcare access to remote areas.  For example, Qure.ai uses AI for faster and more accurate diagnosis of chest X-rays.\n",
      "\n",
      "**C. Fintech:**  AI is driving innovation in India's financial sector.  AI-powered systems detect fraudulent transactions, manage risk more effectively, and provide personalized financial advice to customers.  Many fintech startups are using AI for loan applications, credit scoring, and customer service.\n",
      "\n",
      "**D. Other Sectors:** AI is making inroads in other sectors as well.  In education, AI-powered platforms provide personalized learning experiences. In transportation, autonomous vehicles are being tested and developed.  Manufacturing processes are being optimized using AI, and AI-powered chatbots are transforming customer service interactions.\n",
      "\n",
      "\n",
      "**IV. Challenges and Opportunities**\n",
      "\n",
      "**A. Challenges:**  Despite the rapid growth, challenges remain.  Data privacy concerns, ethical considerations surrounding AI bias, a shortage of skilled professionals in niche areas, infrastructure limitations in certain regions, and the need for clear regulatory frameworks are all hurdles that need to be addressed.\n",
      "\n",
      "**B. Opportunities:**  The potential for AI to drive economic growth, improve social welfare, and solve critical societal problems is immense.  India has the opportunity to become a global leader in specific AI domains, leveraging its talent pool and data resources to develop innovative solutions for global challenges.\n",
      "\n",
      "\n",
      "**V. Conclusion**\n",
      "\n",
      "The rise of AI in India is a compelling story of rapid growth and immense potential.  Driven by government initiatives, abundant data, a growing talent pool, and significant private investment, AI is transforming various sectors, from agriculture to healthcare and finance. While challenges remain, the opportunities are vast, and India is well-positioned to become a major player in the global AI landscape.  We encourage readers to explore the fascinating world of AI and consider how they can contribute to this transformative journey.  Learn more about AI, explore career opportunities, and support initiatives that promote responsible AI development in India.\n",
      "\n",
      "\n",
      "**(Optional additions would include relevant images, charts, graphs, links to resources like NITI Aayog's AI strategy document, and a FAQ section addressing common queries about AI in India.)**\n"
     ]
    }
   ],
   "source": [
    "print(final_state['content'])  # Print the generated blog content"
   ]
  },
  {
   "cell_type": "code",
   "execution_count": null,
   "id": "690f7978",
   "metadata": {},
   "outputs": [],
   "source": []
  }
 ],
 "metadata": {
  "kernelspec": {
   "display_name": "myenv",
   "language": "python",
   "name": "python3"
  },
  "language_info": {
   "codemirror_mode": {
    "name": "ipython",
    "version": 3
   },
   "file_extension": ".py",
   "mimetype": "text/x-python",
   "name": "python",
   "nbconvert_exporter": "python",
   "pygments_lexer": "ipython3",
   "version": "3.13.5"
  }
 },
 "nbformat": 4,
 "nbformat_minor": 5
}
